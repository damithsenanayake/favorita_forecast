{
 "cells": [
  {
   "cell_type": "code",
   "execution_count": 1,
   "outputs": [],
   "source": [
    "import datetime as dt\n",
    "from sklearn.base import BaseEstimator, TransformerMixin\n",
    "import numpy as np\n",
    "import pandas as pd\n",
    "import matplotlib.pyplot as plt\n",
    "from sklearn.preprocessing import LabelEncoder, OneHotEncoder\n"
   ],
   "metadata": {
    "collapsed": false,
    "pycharm": {
     "name": "#%%\n"
    }
   }
  },
  {
   "cell_type": "code",
   "execution_count": 2,
   "outputs": [],
   "source": [
    "items = pd.read_csv(\"./items.csv\")\n",
    "holiday_events = pd.read_csv(\"./holidays_events.csv\", parse_dates=['date'])\n",
    "stores = pd.read_csv(\"./stores.csv\")\n",
    "oil = pd.read_csv(\"./oil.csv\", parse_dates=['date'])\n",
    "transactions = pd.read_csv(\"./transactions.csv\", parse_dates=['date'])\n",
    "train = pd.read_csv(\"./train.csv\", nrows=100000  , parse_dates=['date'])\n",
    "# train_large = pd.read_csv('./train.csv', skiprows = 115000000, names = train.columns, parse_dates = ['date'])"
   ],
   "metadata": {
    "collapsed": false,
    "pycharm": {
     "name": "#%%\n"
    }
   }
  },
  {
   "cell_type": "code",
   "execution_count": 3,
   "outputs": [],
   "source": [
    "test = pd.read_csv('./test.csv', parse_dates=['date'])"
   ],
   "metadata": {
    "collapsed": false,
    "pycharm": {
     "name": "#%%\n"
    }
   }
  },
  {
   "cell_type": "code",
   "execution_count": 3,
   "outputs": [],
   "source": [],
   "metadata": {
    "collapsed": false,
    "pycharm": {
     "name": "#%%\n"
    }
   }
  },
  {
   "cell_type": "code",
   "execution_count": 4,
   "outputs": [],
   "source": [
    "\n",
    "def merge_with_metadata(source, oil, stores, items, holidays):\n",
    "    source.onpromotion = source.onpromotion.fillna(False)\n",
    "    oil.dcoilwtico = oil.dcoilwtico.bfill()\n",
    "    source = pd.merge(source, oil, how='left', left_on='date', right_on='date')\n",
    "    source = pd.merge(source, items, how='left', left_on='item_nbr', right_on='item_nbr')\n",
    "    source = pd.merge(source, holidays, how = 'left', left_on='date', right_on='date')\n",
    "    source = pd.merge(source, stores, how = 'left', left_on='store_nbr', right_on='store_nbr')\n",
    "    source['date'] = source['date'].map(dt.datetime.toordinal)\n",
    "    source.type_x = source.type_x.fillna('Not a Holiday')\n",
    "    source.locale = source.locale.fillna('NA')\n",
    "    source.locale_name = source.locale_name.fillna('NA')\n",
    "    source.transferred = source.transferred.astype(str).fillna('NA')\n",
    "    source.onpromotion = source.onpromotion.astype(float)\n",
    "    source.drop(columns = ['id'], inplace=True)\n",
    "    numeric_columns = source._get_numeric_data().columns\n",
    "    categorical_columns = np.setdiff1d(source.columns , numeric_columns)\n",
    "\n",
    "    num_df = source[numeric_columns].drop(columns = ['date'])\n",
    "    cat_df = source[categorical_columns]\n",
    "    date_df = source['date']\n",
    "\n",
    "    return num_df, cat_df, date_df"
   ],
   "metadata": {
    "collapsed": false,
    "pycharm": {
     "name": "#%%\n"
    }
   }
  },
  {
   "cell_type": "code",
   "execution_count": null,
   "outputs": [],
   "source": [
    "numerical_values, categorical_values, date_values = merge_with_metadata(train, oil, stores, items, holiday_events)\n",
    "print(numerical_values.columns)\n",
    "print(categorical_values.columns)"
   ],
   "metadata": {
    "collapsed": false,
    "pycharm": {
     "name": "#%%\n"
    }
   }
  },
  {
   "cell_type": "code",
   "execution_count": 24,
   "outputs": [
    {
     "data": {
      "text/plain": "       city_Ambato  city_Babahoyo  city_Cayambe  city_Cuenca  city_Daule  \\\n0              0.0            0.0           0.0          0.0         0.0   \n1              0.0            0.0           0.0          0.0         0.0   \n2              0.0            0.0           0.0          0.0         0.0   \n3              0.0            0.0           0.0          0.0         0.0   \n4              0.0            0.0           0.0          0.0         0.0   \n...            ...            ...           ...          ...         ...   \n99995          0.0            0.0           0.0          0.0         0.0   \n99996          0.0            0.0           0.0          0.0         0.0   \n99997          0.0            0.0           0.0          0.0         0.0   \n99998          0.0            0.0           0.0          0.0         0.0   \n99999          0.0            0.0           0.0          0.0         0.0   \n\n       city_El Carmen  city_Esmeraldas  city_Guaranda  city_Guayaquil  \\\n0                 0.0              0.0            0.0             0.0   \n1                 0.0              0.0            0.0             0.0   \n2                 0.0              0.0            0.0             0.0   \n3                 0.0              0.0            0.0             0.0   \n4                 0.0              0.0            0.0             0.0   \n...               ...              ...            ...             ...   \n99995             0.0              0.0            0.0             1.0   \n99996             0.0              0.0            0.0             1.0   \n99997             0.0              0.0            0.0             1.0   \n99998             0.0              0.0            0.0             1.0   \n99999             0.0              0.0            0.0             1.0   \n\n       city_Ibarra  ...  state_Tungurahua  transferred_False  transferred_nan  \\\n0              0.0  ...               0.0                1.0              0.0   \n1              0.0  ...               0.0                1.0              0.0   \n2              0.0  ...               0.0                1.0              0.0   \n3              0.0  ...               0.0                1.0              0.0   \n4              0.0  ...               0.0                1.0              0.0   \n...            ...  ...               ...                ...              ...   \n99995          0.0  ...               0.0                0.0              1.0   \n99996          0.0  ...               0.0                0.0              1.0   \n99997          0.0  ...               0.0                0.0              1.0   \n99998          0.0  ...               0.0                0.0              1.0   \n99999          0.0  ...               0.0                0.0              1.0   \n\n       type_x_Holiday  type_x_Not a Holiday  type_y_A  type_y_B  type_y_C  \\\n0                 1.0                   0.0       0.0       0.0       0.0   \n1                 1.0                   0.0       0.0       0.0       0.0   \n2                 1.0                   0.0       0.0       0.0       0.0   \n3                 1.0                   0.0       0.0       0.0       0.0   \n4                 1.0                   0.0       0.0       0.0       0.0   \n...               ...                   ...       ...       ...       ...   \n99995             0.0                   1.0       0.0       0.0       0.0   \n99996             0.0                   1.0       0.0       0.0       0.0   \n99997             0.0                   1.0       0.0       0.0       0.0   \n99998             0.0                   1.0       0.0       0.0       0.0   \n99999             0.0                   1.0       0.0       0.0       0.0   \n\n       type_y_D  type_y_E  \n0           1.0       0.0  \n1           1.0       0.0  \n2           1.0       0.0  \n3           1.0       0.0  \n4           1.0       0.0  \n...         ...       ...  \n99995       1.0       0.0  \n99996       1.0       0.0  \n99997       1.0       0.0  \n99998       1.0       0.0  \n99999       1.0       0.0  \n\n[100000 rows x 69 columns]",
      "text/html": "<div>\n<style scoped>\n    .dataframe tbody tr th:only-of-type {\n        vertical-align: middle;\n    }\n\n    .dataframe tbody tr th {\n        vertical-align: top;\n    }\n\n    .dataframe thead th {\n        text-align: right;\n    }\n</style>\n<table border=\"1\" class=\"dataframe\">\n  <thead>\n    <tr style=\"text-align: right;\">\n      <th></th>\n      <th>city_Ambato</th>\n      <th>city_Babahoyo</th>\n      <th>city_Cayambe</th>\n      <th>city_Cuenca</th>\n      <th>city_Daule</th>\n      <th>city_El Carmen</th>\n      <th>city_Esmeraldas</th>\n      <th>city_Guaranda</th>\n      <th>city_Guayaquil</th>\n      <th>city_Ibarra</th>\n      <th>...</th>\n      <th>state_Tungurahua</th>\n      <th>transferred_False</th>\n      <th>transferred_nan</th>\n      <th>type_x_Holiday</th>\n      <th>type_x_Not a Holiday</th>\n      <th>type_y_A</th>\n      <th>type_y_B</th>\n      <th>type_y_C</th>\n      <th>type_y_D</th>\n      <th>type_y_E</th>\n    </tr>\n  </thead>\n  <tbody>\n    <tr>\n      <th>0</th>\n      <td>0.0</td>\n      <td>0.0</td>\n      <td>0.0</td>\n      <td>0.0</td>\n      <td>0.0</td>\n      <td>0.0</td>\n      <td>0.0</td>\n      <td>0.0</td>\n      <td>0.0</td>\n      <td>0.0</td>\n      <td>...</td>\n      <td>0.0</td>\n      <td>1.0</td>\n      <td>0.0</td>\n      <td>1.0</td>\n      <td>0.0</td>\n      <td>0.0</td>\n      <td>0.0</td>\n      <td>0.0</td>\n      <td>1.0</td>\n      <td>0.0</td>\n    </tr>\n    <tr>\n      <th>1</th>\n      <td>0.0</td>\n      <td>0.0</td>\n      <td>0.0</td>\n      <td>0.0</td>\n      <td>0.0</td>\n      <td>0.0</td>\n      <td>0.0</td>\n      <td>0.0</td>\n      <td>0.0</td>\n      <td>0.0</td>\n      <td>...</td>\n      <td>0.0</td>\n      <td>1.0</td>\n      <td>0.0</td>\n      <td>1.0</td>\n      <td>0.0</td>\n      <td>0.0</td>\n      <td>0.0</td>\n      <td>0.0</td>\n      <td>1.0</td>\n      <td>0.0</td>\n    </tr>\n    <tr>\n      <th>2</th>\n      <td>0.0</td>\n      <td>0.0</td>\n      <td>0.0</td>\n      <td>0.0</td>\n      <td>0.0</td>\n      <td>0.0</td>\n      <td>0.0</td>\n      <td>0.0</td>\n      <td>0.0</td>\n      <td>0.0</td>\n      <td>...</td>\n      <td>0.0</td>\n      <td>1.0</td>\n      <td>0.0</td>\n      <td>1.0</td>\n      <td>0.0</td>\n      <td>0.0</td>\n      <td>0.0</td>\n      <td>0.0</td>\n      <td>1.0</td>\n      <td>0.0</td>\n    </tr>\n    <tr>\n      <th>3</th>\n      <td>0.0</td>\n      <td>0.0</td>\n      <td>0.0</td>\n      <td>0.0</td>\n      <td>0.0</td>\n      <td>0.0</td>\n      <td>0.0</td>\n      <td>0.0</td>\n      <td>0.0</td>\n      <td>0.0</td>\n      <td>...</td>\n      <td>0.0</td>\n      <td>1.0</td>\n      <td>0.0</td>\n      <td>1.0</td>\n      <td>0.0</td>\n      <td>0.0</td>\n      <td>0.0</td>\n      <td>0.0</td>\n      <td>1.0</td>\n      <td>0.0</td>\n    </tr>\n    <tr>\n      <th>4</th>\n      <td>0.0</td>\n      <td>0.0</td>\n      <td>0.0</td>\n      <td>0.0</td>\n      <td>0.0</td>\n      <td>0.0</td>\n      <td>0.0</td>\n      <td>0.0</td>\n      <td>0.0</td>\n      <td>0.0</td>\n      <td>...</td>\n      <td>0.0</td>\n      <td>1.0</td>\n      <td>0.0</td>\n      <td>1.0</td>\n      <td>0.0</td>\n      <td>0.0</td>\n      <td>0.0</td>\n      <td>0.0</td>\n      <td>1.0</td>\n      <td>0.0</td>\n    </tr>\n    <tr>\n      <th>...</th>\n      <td>...</td>\n      <td>...</td>\n      <td>...</td>\n      <td>...</td>\n      <td>...</td>\n      <td>...</td>\n      <td>...</td>\n      <td>...</td>\n      <td>...</td>\n      <td>...</td>\n      <td>...</td>\n      <td>...</td>\n      <td>...</td>\n      <td>...</td>\n      <td>...</td>\n      <td>...</td>\n      <td>...</td>\n      <td>...</td>\n      <td>...</td>\n      <td>...</td>\n      <td>...</td>\n    </tr>\n    <tr>\n      <th>99995</th>\n      <td>0.0</td>\n      <td>0.0</td>\n      <td>0.0</td>\n      <td>0.0</td>\n      <td>0.0</td>\n      <td>0.0</td>\n      <td>0.0</td>\n      <td>0.0</td>\n      <td>1.0</td>\n      <td>0.0</td>\n      <td>...</td>\n      <td>0.0</td>\n      <td>0.0</td>\n      <td>1.0</td>\n      <td>0.0</td>\n      <td>1.0</td>\n      <td>0.0</td>\n      <td>0.0</td>\n      <td>0.0</td>\n      <td>1.0</td>\n      <td>0.0</td>\n    </tr>\n    <tr>\n      <th>99996</th>\n      <td>0.0</td>\n      <td>0.0</td>\n      <td>0.0</td>\n      <td>0.0</td>\n      <td>0.0</td>\n      <td>0.0</td>\n      <td>0.0</td>\n      <td>0.0</td>\n      <td>1.0</td>\n      <td>0.0</td>\n      <td>...</td>\n      <td>0.0</td>\n      <td>0.0</td>\n      <td>1.0</td>\n      <td>0.0</td>\n      <td>1.0</td>\n      <td>0.0</td>\n      <td>0.0</td>\n      <td>0.0</td>\n      <td>1.0</td>\n      <td>0.0</td>\n    </tr>\n    <tr>\n      <th>99997</th>\n      <td>0.0</td>\n      <td>0.0</td>\n      <td>0.0</td>\n      <td>0.0</td>\n      <td>0.0</td>\n      <td>0.0</td>\n      <td>0.0</td>\n      <td>0.0</td>\n      <td>1.0</td>\n      <td>0.0</td>\n      <td>...</td>\n      <td>0.0</td>\n      <td>0.0</td>\n      <td>1.0</td>\n      <td>0.0</td>\n      <td>1.0</td>\n      <td>0.0</td>\n      <td>0.0</td>\n      <td>0.0</td>\n      <td>1.0</td>\n      <td>0.0</td>\n    </tr>\n    <tr>\n      <th>99998</th>\n      <td>0.0</td>\n      <td>0.0</td>\n      <td>0.0</td>\n      <td>0.0</td>\n      <td>0.0</td>\n      <td>0.0</td>\n      <td>0.0</td>\n      <td>0.0</td>\n      <td>1.0</td>\n      <td>0.0</td>\n      <td>...</td>\n      <td>0.0</td>\n      <td>0.0</td>\n      <td>1.0</td>\n      <td>0.0</td>\n      <td>1.0</td>\n      <td>0.0</td>\n      <td>0.0</td>\n      <td>0.0</td>\n      <td>1.0</td>\n      <td>0.0</td>\n    </tr>\n    <tr>\n      <th>99999</th>\n      <td>0.0</td>\n      <td>0.0</td>\n      <td>0.0</td>\n      <td>0.0</td>\n      <td>0.0</td>\n      <td>0.0</td>\n      <td>0.0</td>\n      <td>0.0</td>\n      <td>1.0</td>\n      <td>0.0</td>\n      <td>...</td>\n      <td>0.0</td>\n      <td>0.0</td>\n      <td>1.0</td>\n      <td>0.0</td>\n      <td>1.0</td>\n      <td>0.0</td>\n      <td>0.0</td>\n      <td>0.0</td>\n      <td>1.0</td>\n      <td>0.0</td>\n    </tr>\n  </tbody>\n</table>\n<p>100000 rows × 69 columns</p>\n</div>"
     },
     "execution_count": 24,
     "metadata": {},
     "output_type": "execute_result"
    }
   ],
   "source": [
    "categorical_values.astype(float)"
   ],
   "metadata": {
    "collapsed": false,
    "pycharm": {
     "name": "#%%\n"
    }
   }
  },
  {
   "cell_type": "code",
   "execution_count": 6,
   "outputs": [],
   "source": [],
   "metadata": {
    "collapsed": false,
    "pycharm": {
     "name": "#%%\n"
    }
   }
  },
  {
   "cell_type": "code",
   "execution_count": 25,
   "outputs": [],
   "source": [
    "from sklearn.preprocessing import StandardScaler"
   ],
   "metadata": {
    "collapsed": false,
    "pycharm": {
     "name": "#%%\n"
    }
   }
  },
  {
   "cell_type": "code",
   "execution_count": 26,
   "outputs": [],
   "source": [
    "num_df = pd.DataFrame(StandardScaler().fit_transform(numerical_values.values), columns = numerical_values.columns)\n"
   ],
   "metadata": {
    "collapsed": false,
    "pycharm": {
     "name": "#%%\n"
    }
   }
  },
  {
   "cell_type": "code",
   "execution_count": 26,
   "outputs": [],
   "source": [],
   "metadata": {
    "collapsed": false,
    "pycharm": {
     "name": "#%%\n"
    }
   }
  },
  {
   "cell_type": "code",
   "execution_count": 34,
   "outputs": [],
   "source": [
    "train_merged = pd.concat([num_df, categorical_values.astype(float), date_values], axis=1)"
   ],
   "metadata": {
    "collapsed": false,
    "pycharm": {
     "name": "#%%\n"
    }
   }
  },
  {
   "cell_type": "code",
   "execution_count": 35,
   "outputs": [
    {
     "data": {
      "text/plain": "   city_Ambato  city_Babahoyo  city_Cayambe  city_Cuenca  city_Daule  \\\n0            0              0             0            0           0   \n1            0              0             0            0           0   \n2            0              0             0            0           0   \n3            0              0             0            0           0   \n4            0              0             0            0           0   \n\n   city_El Carmen  city_Esmeraldas  city_Guaranda  city_Guayaquil  \\\n0               0                0              0               0   \n1               0                0              0               0   \n2               0                0              0               0   \n3               0                0              0               0   \n4               0                0              0               0   \n\n   city_Ibarra  ...  state_Tungurahua  transferred_False  transferred_nan  \\\n0            0  ...                 0                  1                0   \n1            0  ...                 0                  1                0   \n2            0  ...                 0                  1                0   \n3            0  ...                 0                  1                0   \n4            0  ...                 0                  1                0   \n\n   type_x_Holiday  type_x_Not a Holiday  type_y_A  type_y_B  type_y_C  \\\n0               1                     0         0         0         0   \n1               1                     0         0         0         0   \n2               1                     0         0         0         0   \n3               1                     0         0         0         0   \n4               1                     0         0         0         0   \n\n   type_y_D  type_y_E  \n0         1         0  \n1         1         0  \n2         1         0  \n3         1         0  \n4         1         0  \n\n[5 rows x 69 columns]",
      "text/html": "<div>\n<style scoped>\n    .dataframe tbody tr th:only-of-type {\n        vertical-align: middle;\n    }\n\n    .dataframe tbody tr th {\n        vertical-align: top;\n    }\n\n    .dataframe thead th {\n        text-align: right;\n    }\n</style>\n<table border=\"1\" class=\"dataframe\">\n  <thead>\n    <tr style=\"text-align: right;\">\n      <th></th>\n      <th>city_Ambato</th>\n      <th>city_Babahoyo</th>\n      <th>city_Cayambe</th>\n      <th>city_Cuenca</th>\n      <th>city_Daule</th>\n      <th>city_El Carmen</th>\n      <th>city_Esmeraldas</th>\n      <th>city_Guaranda</th>\n      <th>city_Guayaquil</th>\n      <th>city_Ibarra</th>\n      <th>...</th>\n      <th>state_Tungurahua</th>\n      <th>transferred_False</th>\n      <th>transferred_nan</th>\n      <th>type_x_Holiday</th>\n      <th>type_x_Not a Holiday</th>\n      <th>type_y_A</th>\n      <th>type_y_B</th>\n      <th>type_y_C</th>\n      <th>type_y_D</th>\n      <th>type_y_E</th>\n    </tr>\n  </thead>\n  <tbody>\n    <tr>\n      <th>0</th>\n      <td>0</td>\n      <td>0</td>\n      <td>0</td>\n      <td>0</td>\n      <td>0</td>\n      <td>0</td>\n      <td>0</td>\n      <td>0</td>\n      <td>0</td>\n      <td>0</td>\n      <td>...</td>\n      <td>0</td>\n      <td>1</td>\n      <td>0</td>\n      <td>1</td>\n      <td>0</td>\n      <td>0</td>\n      <td>0</td>\n      <td>0</td>\n      <td>1</td>\n      <td>0</td>\n    </tr>\n    <tr>\n      <th>1</th>\n      <td>0</td>\n      <td>0</td>\n      <td>0</td>\n      <td>0</td>\n      <td>0</td>\n      <td>0</td>\n      <td>0</td>\n      <td>0</td>\n      <td>0</td>\n      <td>0</td>\n      <td>...</td>\n      <td>0</td>\n      <td>1</td>\n      <td>0</td>\n      <td>1</td>\n      <td>0</td>\n      <td>0</td>\n      <td>0</td>\n      <td>0</td>\n      <td>1</td>\n      <td>0</td>\n    </tr>\n    <tr>\n      <th>2</th>\n      <td>0</td>\n      <td>0</td>\n      <td>0</td>\n      <td>0</td>\n      <td>0</td>\n      <td>0</td>\n      <td>0</td>\n      <td>0</td>\n      <td>0</td>\n      <td>0</td>\n      <td>...</td>\n      <td>0</td>\n      <td>1</td>\n      <td>0</td>\n      <td>1</td>\n      <td>0</td>\n      <td>0</td>\n      <td>0</td>\n      <td>0</td>\n      <td>1</td>\n      <td>0</td>\n    </tr>\n    <tr>\n      <th>3</th>\n      <td>0</td>\n      <td>0</td>\n      <td>0</td>\n      <td>0</td>\n      <td>0</td>\n      <td>0</td>\n      <td>0</td>\n      <td>0</td>\n      <td>0</td>\n      <td>0</td>\n      <td>...</td>\n      <td>0</td>\n      <td>1</td>\n      <td>0</td>\n      <td>1</td>\n      <td>0</td>\n      <td>0</td>\n      <td>0</td>\n      <td>0</td>\n      <td>1</td>\n      <td>0</td>\n    </tr>\n    <tr>\n      <th>4</th>\n      <td>0</td>\n      <td>0</td>\n      <td>0</td>\n      <td>0</td>\n      <td>0</td>\n      <td>0</td>\n      <td>0</td>\n      <td>0</td>\n      <td>0</td>\n      <td>0</td>\n      <td>...</td>\n      <td>0</td>\n      <td>1</td>\n      <td>0</td>\n      <td>1</td>\n      <td>0</td>\n      <td>0</td>\n      <td>0</td>\n      <td>0</td>\n      <td>1</td>\n      <td>0</td>\n    </tr>\n  </tbody>\n</table>\n<p>5 rows × 69 columns</p>\n</div>"
     },
     "execution_count": 35,
     "metadata": {},
     "output_type": "execute_result"
    }
   ],
   "source": [
    "\n",
    "categorical_values.head()"
   ],
   "metadata": {
    "collapsed": false,
    "pycharm": {
     "name": "#%%\n"
    }
   }
  },
  {
   "cell_type": "code",
   "execution_count": 38,
   "outputs": [
    {
     "data": {
      "text/plain": "   store_nbr  item_nbr  unit_sales  onpromotion  dcoilwtico     class  \\\n0    0.08902 -1.681925   -0.173927          0.0    0.888042  0.760631   \n1    0.08902 -1.675633   -0.519334          0.0    0.888042 -0.833312   \n2    0.08902 -1.675630   -0.461766          0.0    0.888042 -0.833312   \n3    0.08902 -1.667376   -0.519334          0.0    0.888042 -0.847654   \n4    0.08902 -1.665326   -0.519334          0.0    0.888042  0.695612   \n\n   perishable   cluster  city_Ambato  city_Babahoyo  ...  transferred_False  \\\n0    1.923917 -1.694159          0.0            0.0  ...                1.0   \n1   -0.519773 -1.694159          0.0            0.0  ...                1.0   \n2   -0.519773 -1.694159          0.0            0.0  ...                1.0   \n3   -0.519773 -1.694159          0.0            0.0  ...                1.0   \n4    1.923917 -1.694159          0.0            0.0  ...                1.0   \n\n   transferred_nan  type_x_Holiday  type_x_Not a Holiday  type_y_A  type_y_B  \\\n0              0.0             1.0                   0.0       0.0       0.0   \n1              0.0             1.0                   0.0       0.0       0.0   \n2              0.0             1.0                   0.0       0.0       0.0   \n3              0.0             1.0                   0.0       0.0       0.0   \n4              0.0             1.0                   0.0       0.0       0.0   \n\n   type_y_C  type_y_D  type_y_E    date  \n0       0.0       1.0       0.0  734869  \n1       0.0       1.0       0.0  734869  \n2       0.0       1.0       0.0  734869  \n3       0.0       1.0       0.0  734869  \n4       0.0       1.0       0.0  734869  \n\n[5 rows x 78 columns]",
      "text/html": "<div>\n<style scoped>\n    .dataframe tbody tr th:only-of-type {\n        vertical-align: middle;\n    }\n\n    .dataframe tbody tr th {\n        vertical-align: top;\n    }\n\n    .dataframe thead th {\n        text-align: right;\n    }\n</style>\n<table border=\"1\" class=\"dataframe\">\n  <thead>\n    <tr style=\"text-align: right;\">\n      <th></th>\n      <th>store_nbr</th>\n      <th>item_nbr</th>\n      <th>unit_sales</th>\n      <th>onpromotion</th>\n      <th>dcoilwtico</th>\n      <th>class</th>\n      <th>perishable</th>\n      <th>cluster</th>\n      <th>city_Ambato</th>\n      <th>city_Babahoyo</th>\n      <th>...</th>\n      <th>transferred_False</th>\n      <th>transferred_nan</th>\n      <th>type_x_Holiday</th>\n      <th>type_x_Not a Holiday</th>\n      <th>type_y_A</th>\n      <th>type_y_B</th>\n      <th>type_y_C</th>\n      <th>type_y_D</th>\n      <th>type_y_E</th>\n      <th>date</th>\n    </tr>\n  </thead>\n  <tbody>\n    <tr>\n      <th>0</th>\n      <td>0.08902</td>\n      <td>-1.681925</td>\n      <td>-0.173927</td>\n      <td>0.0</td>\n      <td>0.888042</td>\n      <td>0.760631</td>\n      <td>1.923917</td>\n      <td>-1.694159</td>\n      <td>0.0</td>\n      <td>0.0</td>\n      <td>...</td>\n      <td>1.0</td>\n      <td>0.0</td>\n      <td>1.0</td>\n      <td>0.0</td>\n      <td>0.0</td>\n      <td>0.0</td>\n      <td>0.0</td>\n      <td>1.0</td>\n      <td>0.0</td>\n      <td>734869</td>\n    </tr>\n    <tr>\n      <th>1</th>\n      <td>0.08902</td>\n      <td>-1.675633</td>\n      <td>-0.519334</td>\n      <td>0.0</td>\n      <td>0.888042</td>\n      <td>-0.833312</td>\n      <td>-0.519773</td>\n      <td>-1.694159</td>\n      <td>0.0</td>\n      <td>0.0</td>\n      <td>...</td>\n      <td>1.0</td>\n      <td>0.0</td>\n      <td>1.0</td>\n      <td>0.0</td>\n      <td>0.0</td>\n      <td>0.0</td>\n      <td>0.0</td>\n      <td>1.0</td>\n      <td>0.0</td>\n      <td>734869</td>\n    </tr>\n    <tr>\n      <th>2</th>\n      <td>0.08902</td>\n      <td>-1.675630</td>\n      <td>-0.461766</td>\n      <td>0.0</td>\n      <td>0.888042</td>\n      <td>-0.833312</td>\n      <td>-0.519773</td>\n      <td>-1.694159</td>\n      <td>0.0</td>\n      <td>0.0</td>\n      <td>...</td>\n      <td>1.0</td>\n      <td>0.0</td>\n      <td>1.0</td>\n      <td>0.0</td>\n      <td>0.0</td>\n      <td>0.0</td>\n      <td>0.0</td>\n      <td>1.0</td>\n      <td>0.0</td>\n      <td>734869</td>\n    </tr>\n    <tr>\n      <th>3</th>\n      <td>0.08902</td>\n      <td>-1.667376</td>\n      <td>-0.519334</td>\n      <td>0.0</td>\n      <td>0.888042</td>\n      <td>-0.847654</td>\n      <td>-0.519773</td>\n      <td>-1.694159</td>\n      <td>0.0</td>\n      <td>0.0</td>\n      <td>...</td>\n      <td>1.0</td>\n      <td>0.0</td>\n      <td>1.0</td>\n      <td>0.0</td>\n      <td>0.0</td>\n      <td>0.0</td>\n      <td>0.0</td>\n      <td>1.0</td>\n      <td>0.0</td>\n      <td>734869</td>\n    </tr>\n    <tr>\n      <th>4</th>\n      <td>0.08902</td>\n      <td>-1.665326</td>\n      <td>-0.519334</td>\n      <td>0.0</td>\n      <td>0.888042</td>\n      <td>0.695612</td>\n      <td>1.923917</td>\n      <td>-1.694159</td>\n      <td>0.0</td>\n      <td>0.0</td>\n      <td>...</td>\n      <td>1.0</td>\n      <td>0.0</td>\n      <td>1.0</td>\n      <td>0.0</td>\n      <td>0.0</td>\n      <td>0.0</td>\n      <td>0.0</td>\n      <td>1.0</td>\n      <td>0.0</td>\n      <td>734869</td>\n    </tr>\n  </tbody>\n</table>\n<p>5 rows × 78 columns</p>\n</div>"
     },
     "execution_count": 38,
     "metadata": {},
     "output_type": "execute_result"
    }
   ],
   "source": [
    "train_merged.head()"
   ],
   "metadata": {
    "collapsed": false,
    "pycharm": {
     "name": "#%%\n"
    }
   }
  },
  {
   "cell_type": "code",
   "execution_count": 39,
   "outputs": [],
   "source": [
    "#X_tr = (train_merged[['date', 'onpromotion', 'item_nbr','locale', 'locale_name', 'transferred', 'store_nbr', 'dcoilwtico', 'family', 'class', 'perishable', 'cluster']]).values\n",
    "X_tr = train_merged.drop(columns=['unit_sales']).values"
   ],
   "metadata": {
    "collapsed": false,
    "pycharm": {
     "name": "#%%\n"
    }
   }
  },
  {
   "cell_type": "code",
   "execution_count": 40,
   "outputs": [],
   "source": [
    "from sklearn.preprocessing import StandardScaler\n",
    "\n",
    "# X_tr = StandardScaler().fit_transform(X_tr)"
   ],
   "metadata": {
    "collapsed": false,
    "pycharm": {
     "name": "#%%\n"
    }
   }
  },
  {
   "cell_type": "code",
   "execution_count": 41,
   "outputs": [
    {
     "name": "stdout",
     "output_type": "stream",
     "text": [
      "False\n"
     ]
    }
   ],
   "source": [
    "X_tr = np.nan_to_num(X_tr).astype(float)\n",
    "print(np.isnan(X_tr).any())"
   ],
   "metadata": {
    "collapsed": false,
    "pycharm": {
     "name": "#%%\n"
    }
   }
  },
  {
   "cell_type": "code",
   "execution_count": 42,
   "outputs": [],
   "source": [
    "Y_tr = np.array(train_merged['unit_sales'])"
   ],
   "metadata": {
    "collapsed": false,
    "pycharm": {
     "name": "#%%\n"
    }
   }
  },
  {
   "cell_type": "code",
   "execution_count": 43,
   "outputs": [],
   "source": [
    "'''validation on training set'''\n",
    "from sklearn.model_selection import train_test_split\n",
    "\n",
    "train_x, test_x, train_y, test_y = train_test_split(X_tr, Y_tr, test_size=0.2)"
   ],
   "metadata": {
    "collapsed": false,
    "pycharm": {
     "name": "#%%\n"
    }
   }
  },
  {
   "cell_type": "code",
   "execution_count": 44,
   "outputs": [
    {
     "name": "stdout",
     "output_type": "stream",
     "text": [
      "(80000, 77) (20000, 77)\n"
     ]
    }
   ],
   "source": [
    "print(train_x.shape, test_x.shape)"
   ],
   "metadata": {
    "collapsed": false,
    "pycharm": {
     "name": "#%%\n"
    }
   }
  },
  {
   "cell_type": "code",
   "execution_count": 52,
   "outputs": [],
   "source": [
    "from sklearn.ensemble import RandomForestRegressor\n",
    "from sklearn.svm import SVR\n",
    "from sklearn.linear_model import LinearRegression"
   ],
   "metadata": {
    "collapsed": false,
    "pycharm": {
     "name": "#%%\n"
    }
   }
  },
  {
   "cell_type": "code",
   "execution_count": 53,
   "outputs": [],
   "source": [
    "rf = SVR()"
   ],
   "metadata": {
    "collapsed": false,
    "pycharm": {
     "name": "#%%\n"
    }
   }
  },
  {
   "cell_type": "code",
   "execution_count": 51,
   "outputs": [
    {
     "data": {
      "text/plain": "RandomForestRegressor()",
      "text/html": "<style>#sk-container-id-2 {color: black;background-color: white;}#sk-container-id-2 pre{padding: 0;}#sk-container-id-2 div.sk-toggleable {background-color: white;}#sk-container-id-2 label.sk-toggleable__label {cursor: pointer;display: block;width: 100%;margin-bottom: 0;padding: 0.3em;box-sizing: border-box;text-align: center;}#sk-container-id-2 label.sk-toggleable__label-arrow:before {content: \"▸\";float: left;margin-right: 0.25em;color: #696969;}#sk-container-id-2 label.sk-toggleable__label-arrow:hover:before {color: black;}#sk-container-id-2 div.sk-estimator:hover label.sk-toggleable__label-arrow:before {color: black;}#sk-container-id-2 div.sk-toggleable__content {max-height: 0;max-width: 0;overflow: hidden;text-align: left;background-color: #f0f8ff;}#sk-container-id-2 div.sk-toggleable__content pre {margin: 0.2em;color: black;border-radius: 0.25em;background-color: #f0f8ff;}#sk-container-id-2 input.sk-toggleable__control:checked~div.sk-toggleable__content {max-height: 200px;max-width: 100%;overflow: auto;}#sk-container-id-2 input.sk-toggleable__control:checked~label.sk-toggleable__label-arrow:before {content: \"▾\";}#sk-container-id-2 div.sk-estimator input.sk-toggleable__control:checked~label.sk-toggleable__label {background-color: #d4ebff;}#sk-container-id-2 div.sk-label input.sk-toggleable__control:checked~label.sk-toggleable__label {background-color: #d4ebff;}#sk-container-id-2 input.sk-hidden--visually {border: 0;clip: rect(1px 1px 1px 1px);clip: rect(1px, 1px, 1px, 1px);height: 1px;margin: -1px;overflow: hidden;padding: 0;position: absolute;width: 1px;}#sk-container-id-2 div.sk-estimator {font-family: monospace;background-color: #f0f8ff;border: 1px dotted black;border-radius: 0.25em;box-sizing: border-box;margin-bottom: 0.5em;}#sk-container-id-2 div.sk-estimator:hover {background-color: #d4ebff;}#sk-container-id-2 div.sk-parallel-item::after {content: \"\";width: 100%;border-bottom: 1px solid gray;flex-grow: 1;}#sk-container-id-2 div.sk-label:hover label.sk-toggleable__label {background-color: #d4ebff;}#sk-container-id-2 div.sk-serial::before {content: \"\";position: absolute;border-left: 1px solid gray;box-sizing: border-box;top: 0;bottom: 0;left: 50%;z-index: 0;}#sk-container-id-2 div.sk-serial {display: flex;flex-direction: column;align-items: center;background-color: white;padding-right: 0.2em;padding-left: 0.2em;position: relative;}#sk-container-id-2 div.sk-item {position: relative;z-index: 1;}#sk-container-id-2 div.sk-parallel {display: flex;align-items: stretch;justify-content: center;background-color: white;position: relative;}#sk-container-id-2 div.sk-item::before, #sk-container-id-2 div.sk-parallel-item::before {content: \"\";position: absolute;border-left: 1px solid gray;box-sizing: border-box;top: 0;bottom: 0;left: 50%;z-index: -1;}#sk-container-id-2 div.sk-parallel-item {display: flex;flex-direction: column;z-index: 1;position: relative;background-color: white;}#sk-container-id-2 div.sk-parallel-item:first-child::after {align-self: flex-end;width: 50%;}#sk-container-id-2 div.sk-parallel-item:last-child::after {align-self: flex-start;width: 50%;}#sk-container-id-2 div.sk-parallel-item:only-child::after {width: 0;}#sk-container-id-2 div.sk-dashed-wrapped {border: 1px dashed gray;margin: 0 0.4em 0.5em 0.4em;box-sizing: border-box;padding-bottom: 0.4em;background-color: white;}#sk-container-id-2 div.sk-label label {font-family: monospace;font-weight: bold;display: inline-block;line-height: 1.2em;}#sk-container-id-2 div.sk-label-container {text-align: center;}#sk-container-id-2 div.sk-container {/* jupyter's `normalize.less` sets `[hidden] { display: none; }` but bootstrap.min.css set `[hidden] { display: none !important; }` so we also need the `!important` here to be able to override the default hidden behavior on the sphinx rendered scikit-learn.org. See: https://github.com/scikit-learn/scikit-learn/issues/21755 */display: inline-block !important;position: relative;}#sk-container-id-2 div.sk-text-repr-fallback {display: none;}</style><div id=\"sk-container-id-2\" class=\"sk-top-container\"><div class=\"sk-text-repr-fallback\"><pre>RandomForestRegressor()</pre><b>In a Jupyter environment, please rerun this cell to show the HTML representation or trust the notebook. <br />On GitHub, the HTML representation is unable to render, please try loading this page with nbviewer.org.</b></div><div class=\"sk-container\" hidden><div class=\"sk-item\"><div class=\"sk-estimator sk-toggleable\"><input class=\"sk-toggleable__control sk-hidden--visually\" id=\"sk-estimator-id-2\" type=\"checkbox\" checked><label for=\"sk-estimator-id-2\" class=\"sk-toggleable__label sk-toggleable__label-arrow\">RandomForestRegressor</label><div class=\"sk-toggleable__content\"><pre>RandomForestRegressor()</pre></div></div></div></div></div>"
     },
     "execution_count": 51,
     "metadata": {},
     "output_type": "execute_result"
    }
   ],
   "source": [
    "rf.fit(train_x, train_y)"
   ],
   "metadata": {
    "collapsed": false,
    "pycharm": {
     "name": "#%%\n"
    }
   }
  },
  {
   "cell_type": "code",
   "execution_count": null,
   "outputs": [],
   "source": [
    "from sklearn.metrics import mean_squared_error, mean_absolute_error\n",
    "# print(train_x)\n",
    "prediction = rf.predict(test_x)\n",
    "#print(train_merged.head())"
   ],
   "metadata": {
    "collapsed": false,
    "pycharm": {
     "name": "#%%\n"
    }
   }
  },
  {
   "cell_type": "markdown",
   "source": [
    "## Preprocessing Training Data\n"
   ],
   "metadata": {
    "collapsed": false,
    "pycharm": {
     "name": "#%% md\n"
    }
   }
  },
  {
   "cell_type": "code",
   "execution_count": 49,
   "outputs": [
    {
     "name": "stdout",
     "output_type": "stream",
     "text": [
      "rmse = 0.7050016817362958\n",
      "mean_absolute_error = 0.3376136827328741\n"
     ]
    }
   ],
   "source": [
    "print(f'rmse = {np.sqrt(mean_squared_error(test_y, prediction))}')\n",
    "print(f'mean_absolute_error = {mean_absolute_error(test_y, prediction)}')"
   ],
   "metadata": {
    "collapsed": false,
    "pycharm": {
     "name": "#%%\n"
    }
   }
  },
  {
   "cell_type": "code",
   "execution_count": null,
   "outputs": [],
   "source": [
    "print(prediction, test_y)"
   ],
   "metadata": {
    "collapsed": false,
    "pycharm": {
     "name": "#%%\n"
    }
   }
  },
  {
   "cell_type": "code",
   "execution_count": null,
   "outputs": [],
   "source": [
    "df = pd.DataFrame(np.array([prediction, test_y]).T, columns = ['prediction', 'true_val'] )\n",
    "df.to_csv('crossval.csv')"
   ],
   "metadata": {
    "collapsed": false,
    "pycharm": {
     "name": "#%%\n"
    }
   }
  },
  {
   "cell_type": "code",
   "execution_count": null,
   "outputs": [],
   "source": [
    "test_merged = merge_with_metadata(test, oil, stores, items, holiday_events)\n",
    "test_merged = encode_data(test_merged, label_encoders, encodable_columns)"
   ],
   "metadata": {
    "collapsed": false,
    "pycharm": {
     "name": "#%%\n"
    }
   }
  },
  {
   "cell_type": "code",
   "execution_count": null,
   "outputs": [],
   "source": [],
   "metadata": {
    "collapsed": false,
    "pycharm": {
     "name": "#%%\n"
    }
   }
  }
 ],
 "metadata": {
  "kernelspec": {
   "display_name": "Python 3",
   "language": "python",
   "name": "python3"
  },
  "language_info": {
   "codemirror_mode": {
    "name": "ipython",
    "version": 2
   },
   "file_extension": ".py",
   "mimetype": "text/x-python",
   "name": "python",
   "nbconvert_exporter": "python",
   "pygments_lexer": "ipython2",
   "version": "2.7.6"
  }
 },
 "nbformat": 4,
 "nbformat_minor": 0
}