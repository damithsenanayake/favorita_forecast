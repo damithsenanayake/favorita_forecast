{
 "cells": [
  {
   "cell_type": "markdown",
   "source": [
    "# Sales Prediction as a Regression Problem\n",
    "\n",
    "We can consider two main approaches for this unit-sales prediction task\n",
    "\n",
    "1. Treat the problem as a time-series forecasting problem, i.e. for each item_number, consider past sales as a time-series and predict for a given duration\n",
    "2. Treat the problem as a multi-variate regression problem, i.e. consider the input and target as non-time-series but treat date as a separate input.\n",
    "\n",
    "I opted for the second approach for the following reasons\n",
    "\n",
    "1. Developing a separate model for individual items to predict their future sales seems impractical. Especially when adding a new item, you end up with no data to train a model.\n",
    "2. Treating this as a multivariate regression problem allows me to use a wider range of possible models.\n",
    "3. Using a proper model, seasonal variations etc. may be implicitly captured, but deseasonalising data as preprocessing is preferred to make it easier for the model to learn the patterns\n",
    "\n",
    "## Feature Engineering and Preprocessing\n",
    "\n",
    "Two main types of data: Numerical and Categorical. Numerical data can be fed as is to the model with some normalisation/standardisation. Categorical data must be one-hot-encoded / bitmap indexed to allow identifying decision boundaries without arbitrary assignment of numerical values to the categories. However, for cases such as 'store-nbr', 'item.class', and 'item_nbr' where the cardinality is considerably large, onehot encoding may add to curse of dimensionality, so I will keep it as numerical for now.\n",
    "\n",
    "Numerical Data will be standardised (to allow for out-of-sample integration which may not be possible with normalisation).\n",
    "\n",
    "## Handling out-of-sample data points in the test-data\n",
    "\n",
    "For now, my approach only considers predicting the data for values contained within the training set, and I have used a train-test-split to try and validate my models for this. Unfortunately there is a few data points not contained within the trainingset but is present in the test data provided by the kaggle competition. Here is my strategy to deal with them if more time is provided.\n",
    "\n",
    "1. De-identify the data: Variables such as the item_nbr and store_nbr may be subject to new additions (new product introductions, opening new stores e.g.). Therefore, I would attempt to represent a store by other related variables and create a surrogate store-profile to replace the store_nbr (store location, store type etc.). Similarly, I would represent a product with associated other variables and not the item_nbr.\n",
    "2. Replace Locale information with geographic information: Some holiday information is not contained within the training set, e.g. holidays in Puyo, Pastaz (Ecuador) but is contained in the test set. I would rely on doing a web-crawl to replace such locales with the 'geographically nearest' locale contained in the training set.\n",
    "\n",
    "### References\n",
    "\n",
    "I first read the problem description and went through the existing solutions (the code kernels on kaggle). I have referred to some of them to load the large files onto my local computer's ram as I had trouble with them. But the data workflow I have written on my own as I did not agree with some of the processing steps in them."
   ],
   "metadata": {
    "collapsed": false,
    "pycharm": {
     "name": "#%% md\n"
    }
   }
  },
  {
   "cell_type": "code",
   "execution_count": 1,
   "outputs": [],
   "source": [
    "import datetime as dt\n",
    "import numpy as np\n",
    "import pandas as pd\n",
    "import matplotlib.pyplot as plt\n"
   ],
   "metadata": {
    "collapsed": false,
    "pycharm": {
     "name": "#%%\n"
    }
   }
  },
  {
   "cell_type": "code",
   "execution_count": 2,
   "outputs": [],
   "source": [
    "items = pd.read_csv(\"./items.csv\")\n",
    "holiday_events = pd.read_csv(\"./holidays_events.csv\", parse_dates=['date'])\n",
    "stores = pd.read_csv(\"./stores.csv\")\n",
    "oil = pd.read_csv(\"./oil.csv\", parse_dates=['date'])\n",
    "transactions = pd.read_csv(\"./transactions.csv\", parse_dates=['date'])\n",
    "train = pd.read_csv(\"./train.csv\", nrows=1000000  , parse_dates=['date'])\n",
    "# train_large = pd.read_csv('./train.csv', skiprows = 115000000, names = train.columns, parse_dates = ['date'])"
   ],
   "metadata": {
    "collapsed": false,
    "pycharm": {
     "name": "#%%\n"
    }
   }
  },
  {
   "cell_type": "code",
   "execution_count": 3,
   "outputs": [],
   "source": [
    "test = pd.read_csv('./test.csv', parse_dates=['date'])"
   ],
   "metadata": {
    "collapsed": false,
    "pycharm": {
     "name": "#%%\n"
    }
   }
  },
  {
   "cell_type": "code",
   "execution_count": 4,
   "outputs": [],
   "source": [
    "\n",
    "def merge_with_metadata(source, oil, stores, items, holidays):\n",
    "    source.onpromotion = source.onpromotion.fillna(False)\n",
    "    oil.dcoilwtico = oil.dcoilwtico.bfill()\n",
    "    source = pd.merge(source, oil, how='left', left_on='date', right_on='date')\n",
    "    source = pd.merge(source, items, how='left', left_on='item_nbr', right_on='item_nbr')\n",
    "    source = pd.merge(source, holidays, how = 'left', left_on='date', right_on='date')\n",
    "    source = pd.merge(source, stores, how = 'left', left_on='store_nbr', right_on='store_nbr')\n",
    "    source['date'] = source['date'].map(dt.datetime.toordinal)\n",
    "    source.type_x = source.type_x.fillna('Not a Holiday')\n",
    "    source.locale = source.locale.fillna('NA')\n",
    "    source.locale_name = source.locale_name.fillna('NA')\n",
    "    source.transferred = source.transferred.astype(str).fillna('NA')\n",
    "    source.onpromotion = source.onpromotion.astype(float)\n",
    "    source.drop(columns = ['id'], inplace=True)\n",
    "    numeric_columns = source.drop(columns = [ 'cluster'])._get_numeric_data().columns\n",
    "    categorical_columns = (np.setdiff1d(source.columns , numeric_columns))\n",
    "    num_df = source[numeric_columns].drop(columns = ['date', 'unit_sales'])\n",
    "    cat_df = source[categorical_columns].astype(str)\n",
    "\n",
    "    date_df = source['date']\n",
    "    target_df = source['unit_sales']\n",
    "\n",
    "    return num_df, cat_df, date_df, target_df"
   ],
   "metadata": {
    "collapsed": false,
    "pycharm": {
     "name": "#%%\n"
    }
   }
  },
  {
   "cell_type": "code",
   "execution_count": 5,
   "outputs": [
    {
     "name": "stdout",
     "output_type": "stream",
     "text": [
      "Index(['store_nbr', 'item_nbr', 'onpromotion', 'dcoilwtico', 'class',\n",
      "       'perishable'],\n",
      "      dtype='object')\n",
      "Index(['city', 'cluster', 'description', 'family', 'locale', 'locale_name',\n",
      "       'state', 'transferred', 'type_x', 'type_y'],\n",
      "      dtype='object')\n"
     ]
    }
   ],
   "source": [
    "numerical_values, categorical_values, date_values, target_values = merge_with_metadata(train, oil, stores, items, holiday_events)\n",
    "print(numerical_values.columns)\n",
    "print(categorical_values.columns)"
   ],
   "metadata": {
    "collapsed": false,
    "pycharm": {
     "name": "#%%\n"
    }
   }
  },
  {
   "cell_type": "code",
   "execution_count": 6,
   "outputs": [
    {
     "data": {
      "text/plain": "      city cluster         description        family    locale locale_name  \\\n0  Salinas       1  Primer dia del ano  BREAD/BAKERY  National     Ecuador   \n1  Salinas       1  Primer dia del ano     GROCERY I  National     Ecuador   \n2  Salinas       1  Primer dia del ano     GROCERY I  National     Ecuador   \n3  Salinas       1  Primer dia del ano     GROCERY I  National     Ecuador   \n4  Salinas       1  Primer dia del ano          DELI  National     Ecuador   \n\n         state transferred   type_x type_y  \n0  Santa Elena       False  Holiday      D  \n1  Santa Elena       False  Holiday      D  \n2  Santa Elena       False  Holiday      D  \n3  Santa Elena       False  Holiday      D  \n4  Santa Elena       False  Holiday      D  ",
      "text/html": "<div>\n<style scoped>\n    .dataframe tbody tr th:only-of-type {\n        vertical-align: middle;\n    }\n\n    .dataframe tbody tr th {\n        vertical-align: top;\n    }\n\n    .dataframe thead th {\n        text-align: right;\n    }\n</style>\n<table border=\"1\" class=\"dataframe\">\n  <thead>\n    <tr style=\"text-align: right;\">\n      <th></th>\n      <th>city</th>\n      <th>cluster</th>\n      <th>description</th>\n      <th>family</th>\n      <th>locale</th>\n      <th>locale_name</th>\n      <th>state</th>\n      <th>transferred</th>\n      <th>type_x</th>\n      <th>type_y</th>\n    </tr>\n  </thead>\n  <tbody>\n    <tr>\n      <th>0</th>\n      <td>Salinas</td>\n      <td>1</td>\n      <td>Primer dia del ano</td>\n      <td>BREAD/BAKERY</td>\n      <td>National</td>\n      <td>Ecuador</td>\n      <td>Santa Elena</td>\n      <td>False</td>\n      <td>Holiday</td>\n      <td>D</td>\n    </tr>\n    <tr>\n      <th>1</th>\n      <td>Salinas</td>\n      <td>1</td>\n      <td>Primer dia del ano</td>\n      <td>GROCERY I</td>\n      <td>National</td>\n      <td>Ecuador</td>\n      <td>Santa Elena</td>\n      <td>False</td>\n      <td>Holiday</td>\n      <td>D</td>\n    </tr>\n    <tr>\n      <th>2</th>\n      <td>Salinas</td>\n      <td>1</td>\n      <td>Primer dia del ano</td>\n      <td>GROCERY I</td>\n      <td>National</td>\n      <td>Ecuador</td>\n      <td>Santa Elena</td>\n      <td>False</td>\n      <td>Holiday</td>\n      <td>D</td>\n    </tr>\n    <tr>\n      <th>3</th>\n      <td>Salinas</td>\n      <td>1</td>\n      <td>Primer dia del ano</td>\n      <td>GROCERY I</td>\n      <td>National</td>\n      <td>Ecuador</td>\n      <td>Santa Elena</td>\n      <td>False</td>\n      <td>Holiday</td>\n      <td>D</td>\n    </tr>\n    <tr>\n      <th>4</th>\n      <td>Salinas</td>\n      <td>1</td>\n      <td>Primer dia del ano</td>\n      <td>DELI</td>\n      <td>National</td>\n      <td>Ecuador</td>\n      <td>Santa Elena</td>\n      <td>False</td>\n      <td>Holiday</td>\n      <td>D</td>\n    </tr>\n  </tbody>\n</table>\n</div>"
     },
     "execution_count": 6,
     "metadata": {},
     "output_type": "execute_result"
    }
   ],
   "source": [
    "categorical_values.head()"
   ],
   "metadata": {
    "collapsed": false,
    "pycharm": {
     "name": "#%%\n"
    }
   }
  },
  {
   "cell_type": "code",
   "execution_count": 7,
   "outputs": [],
   "source": [
    "from sklearn.preprocessing import StandardScaler"
   ],
   "metadata": {
    "collapsed": false,
    "pycharm": {
     "name": "#%%\n"
    }
   }
  },
  {
   "cell_type": "code",
   "execution_count": 8,
   "outputs": [],
   "source": [
    "num_df = pd.DataFrame(StandardScaler().fit_transform(numerical_values.values), columns = numerical_values.columns)\n"
   ],
   "metadata": {
    "collapsed": false,
    "pycharm": {
     "name": "#%%\n"
    }
   }
  },
  {
   "cell_type": "code",
   "execution_count": 9,
   "outputs": [],
   "source": [
    "categorical_values = pd.get_dummies(categorical_values, categorical_values.columns)"
   ],
   "metadata": {
    "collapsed": false,
    "pycharm": {
     "name": "#%%\n"
    }
   }
  },
  {
   "cell_type": "code",
   "execution_count": 10,
   "outputs": [
    {
     "data": {
      "text/plain": "   city_Ambato  city_Babahoyo  city_Cayambe  city_Cuenca  city_Daule  \\\n0            0              0             0            0           0   \n1            0              0             0            0           0   \n2            0              0             0            0           0   \n3            0              0             0            0           0   \n4            0              0             0            0           0   \n\n   city_El Carmen  city_Esmeraldas  city_Guaranda  city_Guayaquil  \\\n0               0                0              0               0   \n1               0                0              0               0   \n2               0                0              0               0   \n3               0                0              0               0   \n4               0                0              0               0   \n\n   city_Ibarra  ...  transferred_False  transferred_nan  type_x_Holiday  \\\n0            0  ...                  1                0               1   \n1            0  ...                  1                0               1   \n2            0  ...                  1                0               1   \n3            0  ...                  1                0               1   \n4            0  ...                  1                0               1   \n\n   type_x_Not a Holiday  type_x_Work Day  type_y_A  type_y_B  type_y_C  \\\n0                     0                0         0         0         0   \n1                     0                0         0         0         0   \n2                     0                0         0         0         0   \n3                     0                0         0         0         0   \n4                     0                0         0         0         0   \n\n   type_y_D  type_y_E  \n0         1         0  \n1         1         0  \n2         1         0  \n3         1         0  \n4         1         0  \n\n[5 rows x 90 columns]",
      "text/html": "<div>\n<style scoped>\n    .dataframe tbody tr th:only-of-type {\n        vertical-align: middle;\n    }\n\n    .dataframe tbody tr th {\n        vertical-align: top;\n    }\n\n    .dataframe thead th {\n        text-align: right;\n    }\n</style>\n<table border=\"1\" class=\"dataframe\">\n  <thead>\n    <tr style=\"text-align: right;\">\n      <th></th>\n      <th>city_Ambato</th>\n      <th>city_Babahoyo</th>\n      <th>city_Cayambe</th>\n      <th>city_Cuenca</th>\n      <th>city_Daule</th>\n      <th>city_El Carmen</th>\n      <th>city_Esmeraldas</th>\n      <th>city_Guaranda</th>\n      <th>city_Guayaquil</th>\n      <th>city_Ibarra</th>\n      <th>...</th>\n      <th>transferred_False</th>\n      <th>transferred_nan</th>\n      <th>type_x_Holiday</th>\n      <th>type_x_Not a Holiday</th>\n      <th>type_x_Work Day</th>\n      <th>type_y_A</th>\n      <th>type_y_B</th>\n      <th>type_y_C</th>\n      <th>type_y_D</th>\n      <th>type_y_E</th>\n    </tr>\n  </thead>\n  <tbody>\n    <tr>\n      <th>0</th>\n      <td>0</td>\n      <td>0</td>\n      <td>0</td>\n      <td>0</td>\n      <td>0</td>\n      <td>0</td>\n      <td>0</td>\n      <td>0</td>\n      <td>0</td>\n      <td>0</td>\n      <td>...</td>\n      <td>1</td>\n      <td>0</td>\n      <td>1</td>\n      <td>0</td>\n      <td>0</td>\n      <td>0</td>\n      <td>0</td>\n      <td>0</td>\n      <td>1</td>\n      <td>0</td>\n    </tr>\n    <tr>\n      <th>1</th>\n      <td>0</td>\n      <td>0</td>\n      <td>0</td>\n      <td>0</td>\n      <td>0</td>\n      <td>0</td>\n      <td>0</td>\n      <td>0</td>\n      <td>0</td>\n      <td>0</td>\n      <td>...</td>\n      <td>1</td>\n      <td>0</td>\n      <td>1</td>\n      <td>0</td>\n      <td>0</td>\n      <td>0</td>\n      <td>0</td>\n      <td>0</td>\n      <td>1</td>\n      <td>0</td>\n    </tr>\n    <tr>\n      <th>2</th>\n      <td>0</td>\n      <td>0</td>\n      <td>0</td>\n      <td>0</td>\n      <td>0</td>\n      <td>0</td>\n      <td>0</td>\n      <td>0</td>\n      <td>0</td>\n      <td>0</td>\n      <td>...</td>\n      <td>1</td>\n      <td>0</td>\n      <td>1</td>\n      <td>0</td>\n      <td>0</td>\n      <td>0</td>\n      <td>0</td>\n      <td>0</td>\n      <td>1</td>\n      <td>0</td>\n    </tr>\n    <tr>\n      <th>3</th>\n      <td>0</td>\n      <td>0</td>\n      <td>0</td>\n      <td>0</td>\n      <td>0</td>\n      <td>0</td>\n      <td>0</td>\n      <td>0</td>\n      <td>0</td>\n      <td>0</td>\n      <td>...</td>\n      <td>1</td>\n      <td>0</td>\n      <td>1</td>\n      <td>0</td>\n      <td>0</td>\n      <td>0</td>\n      <td>0</td>\n      <td>0</td>\n      <td>1</td>\n      <td>0</td>\n    </tr>\n    <tr>\n      <th>4</th>\n      <td>0</td>\n      <td>0</td>\n      <td>0</td>\n      <td>0</td>\n      <td>0</td>\n      <td>0</td>\n      <td>0</td>\n      <td>0</td>\n      <td>0</td>\n      <td>0</td>\n      <td>...</td>\n      <td>1</td>\n      <td>0</td>\n      <td>1</td>\n      <td>0</td>\n      <td>0</td>\n      <td>0</td>\n      <td>0</td>\n      <td>0</td>\n      <td>1</td>\n      <td>0</td>\n    </tr>\n  </tbody>\n</table>\n<p>5 rows × 90 columns</p>\n</div>"
     },
     "execution_count": 10,
     "metadata": {},
     "output_type": "execute_result"
    }
   ],
   "source": [
    "\n",
    "categorical_values.head()"
   ],
   "metadata": {
    "collapsed": false,
    "pycharm": {
     "name": "#%%\n"
    }
   }
  },
  {
   "cell_type": "code",
   "execution_count": 11,
   "outputs": [],
   "source": [
    "train_merged = pd.concat([num_df, categorical_values.astype(float), date_values], axis=1)"
   ],
   "metadata": {
    "collapsed": false,
    "pycharm": {
     "name": "#%%\n"
    }
   }
  },
  {
   "cell_type": "code",
   "execution_count": 12,
   "outputs": [
    {
     "data": {
      "text/plain": "   store_nbr  item_nbr  onpromotion  dcoilwtico     class  perishable  \\\n0  -0.081546 -1.693226          0.0   -1.010501  0.753458    1.881282   \n1  -0.081546 -1.686936          0.0   -1.010501 -0.829665   -0.531552   \n2  -0.081546 -1.686932          0.0   -1.010501 -0.829665   -0.531552   \n3  -0.081546 -1.678682          0.0   -1.010501 -0.843910   -0.531552   \n4  -0.081546 -1.676632          0.0   -1.010501  0.688880    1.881282   \n\n   city_Ambato  city_Babahoyo  city_Cayambe  city_Cuenca  ...  \\\n0          0.0            0.0           0.0          0.0  ...   \n1          0.0            0.0           0.0          0.0  ...   \n2          0.0            0.0           0.0          0.0  ...   \n3          0.0            0.0           0.0          0.0  ...   \n4          0.0            0.0           0.0          0.0  ...   \n\n   transferred_nan  type_x_Holiday  type_x_Not a Holiday  type_x_Work Day  \\\n0              0.0             1.0                   0.0              0.0   \n1              0.0             1.0                   0.0              0.0   \n2              0.0             1.0                   0.0              0.0   \n3              0.0             1.0                   0.0              0.0   \n4              0.0             1.0                   0.0              0.0   \n\n   type_y_A  type_y_B  type_y_C  type_y_D  type_y_E    date  \n0       0.0       0.0       0.0       1.0       0.0  734869  \n1       0.0       0.0       0.0       1.0       0.0  734869  \n2       0.0       0.0       0.0       1.0       0.0  734869  \n3       0.0       0.0       0.0       1.0       0.0  734869  \n4       0.0       0.0       0.0       1.0       0.0  734869  \n\n[5 rows x 97 columns]",
      "text/html": "<div>\n<style scoped>\n    .dataframe tbody tr th:only-of-type {\n        vertical-align: middle;\n    }\n\n    .dataframe tbody tr th {\n        vertical-align: top;\n    }\n\n    .dataframe thead th {\n        text-align: right;\n    }\n</style>\n<table border=\"1\" class=\"dataframe\">\n  <thead>\n    <tr style=\"text-align: right;\">\n      <th></th>\n      <th>store_nbr</th>\n      <th>item_nbr</th>\n      <th>onpromotion</th>\n      <th>dcoilwtico</th>\n      <th>class</th>\n      <th>perishable</th>\n      <th>city_Ambato</th>\n      <th>city_Babahoyo</th>\n      <th>city_Cayambe</th>\n      <th>city_Cuenca</th>\n      <th>...</th>\n      <th>transferred_nan</th>\n      <th>type_x_Holiday</th>\n      <th>type_x_Not a Holiday</th>\n      <th>type_x_Work Day</th>\n      <th>type_y_A</th>\n      <th>type_y_B</th>\n      <th>type_y_C</th>\n      <th>type_y_D</th>\n      <th>type_y_E</th>\n      <th>date</th>\n    </tr>\n  </thead>\n  <tbody>\n    <tr>\n      <th>0</th>\n      <td>-0.081546</td>\n      <td>-1.693226</td>\n      <td>0.0</td>\n      <td>-1.010501</td>\n      <td>0.753458</td>\n      <td>1.881282</td>\n      <td>0.0</td>\n      <td>0.0</td>\n      <td>0.0</td>\n      <td>0.0</td>\n      <td>...</td>\n      <td>0.0</td>\n      <td>1.0</td>\n      <td>0.0</td>\n      <td>0.0</td>\n      <td>0.0</td>\n      <td>0.0</td>\n      <td>0.0</td>\n      <td>1.0</td>\n      <td>0.0</td>\n      <td>734869</td>\n    </tr>\n    <tr>\n      <th>1</th>\n      <td>-0.081546</td>\n      <td>-1.686936</td>\n      <td>0.0</td>\n      <td>-1.010501</td>\n      <td>-0.829665</td>\n      <td>-0.531552</td>\n      <td>0.0</td>\n      <td>0.0</td>\n      <td>0.0</td>\n      <td>0.0</td>\n      <td>...</td>\n      <td>0.0</td>\n      <td>1.0</td>\n      <td>0.0</td>\n      <td>0.0</td>\n      <td>0.0</td>\n      <td>0.0</td>\n      <td>0.0</td>\n      <td>1.0</td>\n      <td>0.0</td>\n      <td>734869</td>\n    </tr>\n    <tr>\n      <th>2</th>\n      <td>-0.081546</td>\n      <td>-1.686932</td>\n      <td>0.0</td>\n      <td>-1.010501</td>\n      <td>-0.829665</td>\n      <td>-0.531552</td>\n      <td>0.0</td>\n      <td>0.0</td>\n      <td>0.0</td>\n      <td>0.0</td>\n      <td>...</td>\n      <td>0.0</td>\n      <td>1.0</td>\n      <td>0.0</td>\n      <td>0.0</td>\n      <td>0.0</td>\n      <td>0.0</td>\n      <td>0.0</td>\n      <td>1.0</td>\n      <td>0.0</td>\n      <td>734869</td>\n    </tr>\n    <tr>\n      <th>3</th>\n      <td>-0.081546</td>\n      <td>-1.678682</td>\n      <td>0.0</td>\n      <td>-1.010501</td>\n      <td>-0.843910</td>\n      <td>-0.531552</td>\n      <td>0.0</td>\n      <td>0.0</td>\n      <td>0.0</td>\n      <td>0.0</td>\n      <td>...</td>\n      <td>0.0</td>\n      <td>1.0</td>\n      <td>0.0</td>\n      <td>0.0</td>\n      <td>0.0</td>\n      <td>0.0</td>\n      <td>0.0</td>\n      <td>1.0</td>\n      <td>0.0</td>\n      <td>734869</td>\n    </tr>\n    <tr>\n      <th>4</th>\n      <td>-0.081546</td>\n      <td>-1.676632</td>\n      <td>0.0</td>\n      <td>-1.010501</td>\n      <td>0.688880</td>\n      <td>1.881282</td>\n      <td>0.0</td>\n      <td>0.0</td>\n      <td>0.0</td>\n      <td>0.0</td>\n      <td>...</td>\n      <td>0.0</td>\n      <td>1.0</td>\n      <td>0.0</td>\n      <td>0.0</td>\n      <td>0.0</td>\n      <td>0.0</td>\n      <td>0.0</td>\n      <td>1.0</td>\n      <td>0.0</td>\n      <td>734869</td>\n    </tr>\n  </tbody>\n</table>\n<p>5 rows × 97 columns</p>\n</div>"
     },
     "execution_count": 12,
     "metadata": {},
     "output_type": "execute_result"
    }
   ],
   "source": [
    "train_merged.head()"
   ],
   "metadata": {
    "collapsed": false,
    "pycharm": {
     "name": "#%%\n"
    }
   }
  },
  {
   "cell_type": "code",
   "execution_count": 13,
   "outputs": [],
   "source": [
    "#X_tr = (train_merged[['date', 'onpromotion', 'item_nbr','locale', 'locale_name', 'transferred', 'store_nbr', 'dcoilwtico', 'family', 'class', 'perishable', 'cluster']]).values\n",
    "X_tr = train_merged.values"
   ],
   "metadata": {
    "collapsed": false,
    "pycharm": {
     "name": "#%%\n"
    }
   }
  },
  {
   "cell_type": "code",
   "execution_count": 14,
   "outputs": [],
   "source": [
    "from sklearn.preprocessing import StandardScaler\n",
    "\n",
    "# X_tr = StandardScaler().fit_transform(X_tr)"
   ],
   "metadata": {
    "collapsed": false,
    "pycharm": {
     "name": "#%%\n"
    }
   }
  },
  {
   "cell_type": "code",
   "execution_count": 15,
   "outputs": [
    {
     "name": "stdout",
     "output_type": "stream",
     "text": [
      "False\n"
     ]
    }
   ],
   "source": [
    "X_tr = np.nan_to_num(X_tr).astype(float)\n",
    "print(np.isnan(X_tr).any())"
   ],
   "metadata": {
    "collapsed": false,
    "pycharm": {
     "name": "#%%\n"
    }
   }
  },
  {
   "cell_type": "code",
   "execution_count": 16,
   "outputs": [],
   "source": [
    "Y_tr = target_values.values"
   ],
   "metadata": {
    "collapsed": false,
    "pycharm": {
     "name": "#%%\n"
    }
   }
  },
  {
   "cell_type": "code",
   "execution_count": 17,
   "outputs": [],
   "source": [
    "'''validation on training set'''\n",
    "from sklearn.model_selection import train_test_split\n",
    "\n",
    "train_x, test_x, train_y, test_y = train_test_split(X_tr, Y_tr, test_size=0.2)"
   ],
   "metadata": {
    "collapsed": false,
    "pycharm": {
     "name": "#%%\n"
    }
   }
  },
  {
   "cell_type": "code",
   "execution_count": 18,
   "outputs": [
    {
     "name": "stdout",
     "output_type": "stream",
     "text": [
      "(800000, 97) (200000, 97)\n"
     ]
    }
   ],
   "source": [
    "print(train_x.shape, test_x.shape)"
   ],
   "metadata": {
    "collapsed": false,
    "pycharm": {
     "name": "#%%\n"
    }
   }
  },
  {
   "cell_type": "code",
   "execution_count": 19,
   "outputs": [],
   "source": [
    "from sklearn.ensemble import RandomForestRegressor\n",
    "from sklearn.svm import SVR\n",
    "from sklearn.linear_model import LinearRegression"
   ],
   "metadata": {
    "collapsed": false,
    "pycharm": {
     "name": "#%%\n"
    }
   }
  },
  {
   "cell_type": "code",
   "execution_count": 20,
   "outputs": [],
   "source": [
    "rf = RandomForestRegressor()"
   ],
   "metadata": {
    "collapsed": false,
    "pycharm": {
     "name": "#%%\n"
    }
   }
  },
  {
   "cell_type": "code",
   "execution_count": null,
   "outputs": [],
   "source": [
    "rf.fit(train_x, train_y)"
   ],
   "metadata": {
    "collapsed": false,
    "pycharm": {
     "name": "#%%\n",
     "is_executing": true
    }
   }
  },
  {
   "cell_type": "code",
   "execution_count": null,
   "outputs": [],
   "source": [
    "from sklearn.metrics import mean_squared_error, mean_absolute_error\n",
    "# print(train_x)\n",
    "prediction = rf.predict(test_x)\n",
    "#print(train_merged.head())"
   ],
   "metadata": {
    "collapsed": false,
    "pycharm": {
     "name": "#%%\n",
     "is_executing": true
    }
   }
  },
  {
   "cell_type": "code",
   "execution_count": null,
   "outputs": [],
   "source": [
    "print(f'rmse = {np.sqrt(mean_squared_error(test_y, prediction))}')\n",
    "print(f'mean_absolute_error = {mean_absolute_error(test_y, prediction)}')"
   ],
   "metadata": {
    "collapsed": false,
    "pycharm": {
     "name": "#%%\n",
     "is_executing": true
    }
   }
  },
  {
   "cell_type": "code",
   "execution_count": null,
   "outputs": [],
   "source": [
    "print(prediction, test_y)"
   ],
   "metadata": {
    "collapsed": false,
    "pycharm": {
     "name": "#%%\n",
     "is_executing": true
    }
   }
  },
  {
   "cell_type": "code",
   "execution_count": null,
   "outputs": [],
   "source": [
    "test_merged = merge_with_metadata(test, oil, stores, items, holiday_events)\n"
   ],
   "metadata": {
    "collapsed": false,
    "pycharm": {
     "name": "#%%\n",
     "is_executing": true
    }
   }
  },
  {
   "cell_type": "code",
   "execution_count": null,
   "outputs": [],
   "source": [],
   "metadata": {
    "collapsed": false,
    "pycharm": {
     "name": "#%%\n",
     "is_executing": true
    }
   }
  }
 ],
 "metadata": {
  "kernelspec": {
   "display_name": "Python 3",
   "language": "python",
   "name": "python3"
  },
  "language_info": {
   "codemirror_mode": {
    "name": "ipython",
    "version": 2
   },
   "file_extension": ".py",
   "mimetype": "text/x-python",
   "name": "python",
   "nbconvert_exporter": "python",
   "pygments_lexer": "ipython2",
   "version": "2.7.6"
  }
 },
 "nbformat": 4,
 "nbformat_minor": 0
}